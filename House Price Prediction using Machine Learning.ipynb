{
  "nbformat": 4,
  "nbformat_minor": 0,
  "metadata": {
    "colab": {
      "provenance": [],
      "include_colab_link": true
    },
    "kernelspec": {
      "name": "python3",
      "display_name": "Python 3"
    },
    "language_info": {
      "name": "python"
    }
  },
  "cells": [
    {
      "cell_type": "markdown",
      "metadata": {
        "id": "view-in-github",
        "colab_type": "text"
      },
      "source": [
        "<a href=\"https://colab.research.google.com/github/nrrajuu/Machine-Learning/blob/main/House%20Price%20Prediction%20using%20Machine%20Learning.ipynb\" target=\"_parent\"><img src=\"https://colab.research.google.com/assets/colab-badge.svg\" alt=\"Open In Colab\"/></a>"
      ]
    },
    {
      "cell_type": "code",
      "execution_count": null,
      "metadata": {
        "id": "mTrEw9ruLxfw"
      },
      "outputs": [],
      "source": [
        "## First let's import Libraries\n",
        "import numpy as np\n",
        "import pandas as pd\n",
        "import matplotlib.pyplot as plt\n",
        "from sklearn import preprocessing\n",
        "from xgboost import XGBRegressor\n",
        "import sklearn.metrics as metrics\n",
        "import math\n",
        "from scipy.stats import norm, skew\n",
        "import seaborn as sns\n",
        "import warnings\n",
        "warnings.filterwarnings('ignore')\n",
        "%matplotlib inline"
      ]
    },
    {
      "cell_type": "code",
      "source": [
        "train.shape , test.shape"
      ],
      "metadata": {
        "id": "-rC01VUkOc5b"
      },
      "execution_count": null,
      "outputs": []
    },
    {
      "cell_type": "code",
      "source": [
        "train.head()"
      ],
      "metadata": {
        "id": "FNyhlyezOc8I"
      },
      "execution_count": null,
      "outputs": []
    },
    {
      "cell_type": "code",
      "source": [
        "train.info()"
      ],
      "metadata": {
        "id": "5Bm9yfIyPz9_"
      },
      "execution_count": null,
      "outputs": []
    },
    {
      "cell_type": "code",
      "source": [
        "# Our target column is 'SalePrice'. So let's analyse it-\n",
        "train['SalePrice'].describe()"
      ],
      "metadata": {
        "id": "g7ljmVy6P1dL"
      },
      "execution_count": null,
      "outputs": []
    },
    {
      "cell_type": "code",
      "source": [
        " sns.distplot(train['SalePrice'])"
      ],
      "metadata": {
        "id": "Flb4txhfP39n"
      },
      "execution_count": null,
      "outputs": []
    },
    {
      "cell_type": "code",
      "source": [
        "print(\"Skewness: %f\" % train['SalePrice'].skew())\n",
        "print(\"Kurtosis: %f\" % train['SalePrice'].kurt())"
      ],
      "metadata": {
        "id": "g_8CjOW5P5mO"
      },
      "execution_count": null,
      "outputs": []
    },
    {
      "cell_type": "code",
      "source": [
        "train['SalePrice'] = np.log1p(train['SalePrice'])\n",
        "sns.distplot(train['SalePrice'], fit=norm);"
      ],
      "metadata": {
        "id": "A8dW0xAfQCrs"
      },
      "execution_count": null,
      "outputs": []
    },
    {
      "cell_type": "code",
      "source": [
        "sns.boxplot(data=train,x='OverallQual',y='SalePrice')"
      ],
      "metadata": {
        "id": "1b1GrjqCQEzi"
      },
      "execution_count": null,
      "outputs": []
    },
    {
      "cell_type": "code",
      "source": [
        "plt.figure(figsize=(15,6),dpi=130)\n",
        "sns.boxplot(data=train,x='YearBuilt',y='SalePrice')\n",
        "plt.xticks(rotation=90)\n",
        "plt.show()"
      ],
      "metadata": {
        "id": "yhhUnVmaQGe1"
      },
      "execution_count": null,
      "outputs": []
    },
    {
      "cell_type": "code",
      "source": [
        "sns.scatterplot(data=train,x='TotalBsmtSF',y='SalePrice')"
      ],
      "metadata": {
        "id": "1Hvn7jmXQIvZ"
      },
      "execution_count": null,
      "outputs": []
    },
    {
      "cell_type": "code",
      "source": [
        "sns.scatterplot(data=train,x='GrLivArea',y='SalePrice')"
      ],
      "metadata": {
        "id": "gv1YEfTFQQ2Q"
      },
      "execution_count": null,
      "outputs": []
    },
    {
      "cell_type": "code",
      "source": [
        "# Let's check which features are the most corelated\n",
        "train.corr()[\"SalePrice\"].sort_values(ascending=False)[1:]"
      ],
      "metadata": {
        "id": "qwPTUE9ZQSeo"
      },
      "execution_count": null,
      "outputs": []
    },
    {
      "cell_type": "code",
      "source": [
        "corrmat = train.corr()\n",
        "f, ax = plt.subplots(figsize=(12, 9))\n",
        "sns.heatmap(corrmat, vmax=.8, square=True);"
      ],
      "metadata": {
        "id": "R2zCxHp9QUZH"
      },
      "execution_count": null,
      "outputs": []
    },
    {
      "cell_type": "code",
      "source": [
        "corr = train.corr()\n",
        "highest_corr_features = corr.index[abs(corr[\"SalePrice\"])>0.5]\n",
        "plt.figure(figsize=(10,10))\n",
        "g = sns.heatmap(train[highest_corr_features].corr(),annot=True,cmap=\"RdYlGn\")"
      ],
      "metadata": {
        "id": "pSKcy1mGQWdi"
      },
      "execution_count": null,
      "outputs": []
    },
    {
      "cell_type": "code",
      "source": [
        "cols = ['SalePrice', 'OverallQual', 'GrLivArea', 'GarageCars', 'TotalBsmtSF', 'FullBath', 'YearBuilt']\n",
        "sns.pairplot(train[cols])"
      ],
      "metadata": {
        "id": "N75rPw-AQZEQ"
      },
      "execution_count": null,
      "outputs": []
    },
    {
      "cell_type": "code",
      "source": [
        "y_train = train['SalePrice']\n",
        "test_id = test['Id']\n",
        "all_data = pd.concat([train, test], axis=0, sort=False)\n",
        "all_data = all_data.drop(['Id', 'SalePrice'], axis=1)"
      ],
      "metadata": {
        "id": "5AUpFSs4Qa2h"
      },
      "execution_count": null,
      "outputs": []
    },
    {
      "cell_type": "code",
      "source": [
        "Total = all_data.isnull().sum().sort_values(ascending=False)\n",
        "percent = (all_data.isnull().sum() / all_data.isnull().count()*100).sort_values(ascending=False)\n",
        "missing_data = pd.concat([Total, percent], axis=1, keys=['Total', 'Percent'])\n",
        "missing_data.head(25)"
      ],
      "metadata": {
        "id": "R4Q-jQP3Qctf"
      },
      "execution_count": null,
      "outputs": []
    },
    {
      "cell_type": "code",
      "source": [
        "all_data.drop((missing_data[missing_data['Total'] > 5]).index, axis=1, inplace=True)\n",
        "print(all_data.isnull().sum().max())"
      ],
      "metadata": {
        "id": "viojZurGQfYO"
      },
      "execution_count": null,
      "outputs": []
    },
    {
      "cell_type": "code",
      "source": [
        "total = all_data.isnull().sum().sort_values(ascending=False)\n",
        "total.head(19)"
      ],
      "metadata": {
        "id": "XClFDhmuQfbE"
      },
      "execution_count": null,
      "outputs": []
    },
    {
      "cell_type": "code",
      "source": [
        "# filling the numeric data\n",
        "numeric_missed = ['BsmtFinSF1',\n",
        "                  'BsmtFinSF2',\n",
        "                  'BsmtUnfSF',\n",
        "                  'TotalBsmtSF',\n",
        "                  'BsmtFullBath',\n",
        "                  'BsmtHalfBath',\n",
        "                  'GarageArea',\n",
        "                  'GarageCars']\n",
        "\n",
        "for feature in numeric_missed:\n",
        "    all_data[feature] = all_data[feature].fillna(0)"
      ],
      "metadata": {
        "id": "0Ff8g5dBQfd9"
      },
      "execution_count": null,
      "outputs": []
    },
    {
      "cell_type": "code",
      "source": [
        "#filling categorical data\n",
        "categorical_missed = ['Exterior1st',\n",
        "                  'Exterior2nd',\n",
        "                  'SaleType',\n",
        "                  'MSZoning',\n",
        "                   'Electrical',\n",
        "                     'KitchenQual']\n",
        "\n",
        "for feature in categorical_missed:\n",
        "    all_data[feature] = all_data[feature].fillna(all_data[feature].mode()[0])"
      ],
      "metadata": {
        "id": "f0mInZl-QmEa"
      },
      "execution_count": null,
      "outputs": []
    },
    {
      "cell_type": "code",
      "source": [
        "#Fill in the remaining missing values with the values that are most common for this feature.\n",
        "\n",
        "all_data['Functional'] = all_data['Functional'].fillna('Typ')"
      ],
      "metadata": {
        "id": "6QF02ubtQnuO"
      },
      "execution_count": null,
      "outputs": []
    },
    {
      "cell_type": "code",
      "source": [
        "all_data.drop(['Utilities'], axis=1, inplace=True)"
      ],
      "metadata": {
        "id": "zRcNn8doQpRI"
      },
      "execution_count": null,
      "outputs": []
    },
    {
      "cell_type": "code",
      "source": [
        "all_data.isnull().sum().max() #just checking that there's no missing data missing.."
      ],
      "metadata": {
        "id": "FYrUob3qQqwJ"
      },
      "execution_count": null,
      "outputs": []
    },
    {
      "cell_type": "code",
      "source": [
        "numeric_feats = all_data.dtypes[all_data.dtypes != 'object'].index\n",
        "skewed_feats = all_data[numeric_feats].apply(lambda x: skew(x)).sort_values(ascending=False)\n",
        "high_skew = skewed_feats[abs(skewed_feats) > 0.5]\n",
        "high_skew"
      ],
      "metadata": {
        "id": "pQ2v2XHkQspQ"
      },
      "execution_count": null,
      "outputs": []
    },
    {
      "cell_type": "code",
      "source": [
        "for feature in high_skew.index:\n",
        "    all_data[feature] = np.log1p(all_data[feature])"
      ],
      "metadata": {
        "id": "iyq660OKQu48"
      },
      "execution_count": null,
      "outputs": []
    },
    {
      "cell_type": "code",
      "source": [
        "all_data['TotalSF'] = all_data['TotalBsmtSF'] + all_data['1stFlrSF'] + all_data['2ndFlrSF']"
      ],
      "metadata": {
        "id": "kf-RpR4KQxfy"
      },
      "execution_count": null,
      "outputs": []
    },
    {
      "cell_type": "code",
      "source": [
        "all_data = pd.get_dummies(all_data)\n",
        "all_data.head()"
      ],
      "metadata": {
        "id": "rN-gSSOqQzmy"
      },
      "execution_count": null,
      "outputs": []
    },
    {
      "cell_type": "code",
      "source": [
        "x_train =all_data['LotArea'][:len(y_train)].values\n",
        "x_test = all_data['LotArea'][len(y_train):]"
      ],
      "metadata": {
        "id": "CudhhGmDQ00D"
      },
      "execution_count": null,
      "outputs": []
    },
    {
      "cell_type": "code",
      "source": [
        "from sklearn.model_selection import train_test_split\n",
        "X_train, X_test, Y_train, y_test = train_test_split(x_train, y_train, test_size=0.33, random_state=42)"
      ],
      "metadata": {
        "id": "Vt8TLQSoRboq"
      },
      "execution_count": null,
      "outputs": []
    },
    {
      "cell_type": "code",
      "source": [
        "x_train.shape"
      ],
      "metadata": {
        "id": "q24CSVw7T4UO"
      },
      "execution_count": null,
      "outputs": []
    },
    {
      "cell_type": "code",
      "source": [
        "y_train.shape"
      ],
      "metadata": {
        "id": "SKY2w7txT52c"
      },
      "execution_count": null,
      "outputs": []
    },
    {
      "cell_type": "code",
      "source": [
        "from sklearn.linear_model import LinearRegression\n",
        "the_model = LinearRegression()\n",
        "the_model.fit(X_train.reshape(-1,1), Y_train)"
      ],
      "metadata": {
        "id": "3RcZ6KxyQ-_d"
      },
      "execution_count": null,
      "outputs": []
    },
    {
      "cell_type": "code",
      "source": [
        "y_pred=the_model.predict(X_test.reshape(-1,1))"
      ],
      "metadata": {
        "id": "Y8aWFBpoRM6q"
      },
      "execution_count": null,
      "outputs": []
    },
    {
      "cell_type": "code",
      "source": [
        "y_pred"
      ],
      "metadata": {
        "id": "GtXwPRgdRx5S"
      },
      "execution_count": null,
      "outputs": []
    },
    {
      "cell_type": "code",
      "source": [
        "y_test=y_test.values"
      ],
      "metadata": {
        "id": "Nm4vlnqiTmbA"
      },
      "execution_count": null,
      "outputs": []
    },
    {
      "cell_type": "code",
      "source": [
        "y_test"
      ],
      "metadata": {
        "id": "25Hsk6CLTovn"
      },
      "execution_count": null,
      "outputs": []
    },
    {
      "cell_type": "code",
      "source": [
        "plt.scatter(x_train,y_train)\n",
        "plt.xlabel('LotArea')\n",
        "plt.ylabel('House Price')\n",
        "plt.title('Visualization of LotArea Vs House Price')"
      ],
      "metadata": {
        "id": "FCh-TJ8nWZps"
      },
      "execution_count": null,
      "outputs": []
    },
    {
      "cell_type": "code",
      "source": [
        "plt.scatter(X_test,y_pred,label='prediction')\n",
        "plt.scatter(X_test,y_test,label='Orginal')\n",
        "plt.xlabel('LotArea')\n",
        "plt.ylabel('House Price')\n",
        "plt.title('Visualization of Predicted and Orginal Values')"
      ],
      "metadata": {
        "id": "rvKAD-fJTy8E"
      },
      "execution_count": null,
      "outputs": []
    }
  ]
}